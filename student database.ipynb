{
 "cells": [
  {
   "cell_type": "code",
   "execution_count": 70,
   "id": "e2bb1a82",
   "metadata": {},
   "outputs": [],
   "source": [
    "import pymongo\n",
    "import json\n"
   ]
  },
  {
   "cell_type": "code",
   "execution_count": 98,
   "id": "2af0e257",
   "metadata": {},
   "outputs": [],
   "source": [
    "client = pymongo.MongoClient('mongodb://localhost:27017')\n",
    "mydb = client['student_data']\n",
    "mycol = mydb['students']\n",
    "student_score = mydb['avg_scores']\n",
    "mycol\n",
    "mycol.drop()"
   ]
  },
  {
   "cell_type": "code",
   "execution_count": 99,
   "id": "d0a72854",
   "metadata": {},
   "outputs": [
    {
     "data": {
      "text/plain": [
       "[{'_id': 0,\n",
       "  'name': 'aimee Zank',\n",
       "  'scores': [{'score': 1.463179736705023, 'type': 'exam'},\n",
       "   {'score': 11.78273309957772, 'type': 'quiz'},\n",
       "   {'score': 35.8740349954354, 'type': 'homework'}]},\n",
       " {'_id': 1,\n",
       "  'name': 'Aurelia Menendez',\n",
       "  'scores': [{'score': 60.06045071030959, 'type': 'exam'},\n",
       "   {'score': 52.79790691903873, 'type': 'quiz'},\n",
       "   {'score': 71.76133439165544, 'type': 'homework'}]},\n",
       " {'_id': 2,\n",
       "  'name': 'Corliss Zuk',\n",
       "  'scores': [{'score': 67.03077096065002, 'type': 'exam'},\n",
       "   {'score': 6.301851677835235, 'type': 'quiz'},\n",
       "   {'score': 66.28344683278382, 'type': 'homework'}]},\n",
       " {'_id': 3,\n",
       "  'name': 'Bao Ziglar',\n",
       "  'scores': [{'score': 71.64343899778332, 'type': 'exam'},\n",
       "   {'score': 24.80221293650313, 'type': 'quiz'},\n",
       "   {'score': 42.26147058804812, 'type': 'homework'}]},\n",
       " {'_id': 4,\n",
       "  'name': 'Zachary Langlais',\n",
       "  'scores': [{'score': 78.68385091304332, 'type': 'exam'},\n",
       "   {'score': 90.2963101368042, 'type': 'quiz'},\n",
       "   {'score': 34.41620148042529, 'type': 'homework'}]},\n",
       " {'_id': 5,\n",
       "  'name': 'Wilburn Spiess',\n",
       "  'scores': [{'score': 44.87186330181261, 'type': 'exam'},\n",
       "   {'score': 25.72395114668016, 'type': 'quiz'},\n",
       "   {'score': 63.42288310628662, 'type': 'homework'}]},\n",
       " {'_id': 6,\n",
       "  'name': 'Jenette Flanders',\n",
       "  'scores': [{'score': 37.32285459166097, 'type': 'exam'},\n",
       "   {'score': 28.32634976913737, 'type': 'quiz'},\n",
       "   {'score': 81.57115318686338, 'type': 'homework'}]},\n",
       " {'_id': 7,\n",
       "  'name': 'Salena Olmos',\n",
       "  'scores': [{'score': 90.37826509157176, 'type': 'exam'},\n",
       "   {'score': 42.48780666956811, 'type': 'quiz'},\n",
       "   {'score': 96.52986171633331, 'type': 'homework'}]},\n",
       " {'_id': 8,\n",
       "  'name': 'Daphne Zheng',\n",
       "  'scores': [{'score': 22.13583712862635, 'type': 'exam'},\n",
       "   {'score': 14.63969941335069, 'type': 'quiz'},\n",
       "   {'score': 75.94123677556644, 'type': 'homework'}]},\n",
       " {'_id': 9,\n",
       "  'name': 'Sanda Ryba',\n",
       "  'scores': [{'score': 97.00509953654694, 'type': 'exam'},\n",
       "   {'score': 97.80449632538915, 'type': 'quiz'},\n",
       "   {'score': 25.27368532432955, 'type': 'homework'}]},\n",
       " {'_id': 10,\n",
       "  'name': 'Denisha Cast',\n",
       "  'scores': [{'score': 45.61876862259409, 'type': 'exam'},\n",
       "   {'score': 98.35723209418343, 'type': 'quiz'},\n",
       "   {'score': 55.90835657173456, 'type': 'homework'}]},\n",
       " {'_id': 11,\n",
       "  'name': 'Marcus Blohm',\n",
       "  'scores': [{'score': 78.42617835651868, 'type': 'exam'},\n",
       "   {'score': 82.58372817930675, 'type': 'quiz'},\n",
       "   {'score': 87.49924733328717, 'type': 'homework'}]},\n",
       " {'_id': 12,\n",
       "  'name': 'Quincy Danaher',\n",
       "  'scores': [{'score': 54.29841278520669, 'type': 'exam'},\n",
       "   {'score': 85.61270164694737, 'type': 'quiz'},\n",
       "   {'score': 80.40732356118075, 'type': 'homework'}]},\n",
       " {'_id': 13,\n",
       "  'name': 'Jessika Dagenais',\n",
       "  'scores': [{'score': 90.47179954427436, 'type': 'exam'},\n",
       "   {'score': 90.3001402468489, 'type': 'quiz'},\n",
       "   {'score': 95.17753772405909, 'type': 'homework'}]},\n",
       " {'_id': 14,\n",
       "  'name': 'Alix Sherrill',\n",
       "  'scores': [{'score': 25.15924151998215, 'type': 'exam'},\n",
       "   {'score': 68.64484047692098, 'type': 'quiz'},\n",
       "   {'score': 24.68462152686763, 'type': 'homework'}]},\n",
       " {'_id': 15,\n",
       "  'name': 'Tambra Mercure',\n",
       "  'scores': [{'score': 69.1565022533158, 'type': 'exam'},\n",
       "   {'score': 3.311794422000724, 'type': 'quiz'},\n",
       "   {'score': 45.03178973642521, 'type': 'homework'}]},\n",
       " {'_id': 16,\n",
       "  'name': 'Dodie Staller',\n",
       "  'scores': [{'score': 7.772386442858281, 'type': 'exam'},\n",
       "   {'score': 31.84300235104542, 'type': 'quiz'},\n",
       "   {'score': 80.52136407989194, 'type': 'homework'}]},\n",
       " {'_id': 17,\n",
       "  'name': 'Fletcher Mcconnell',\n",
       "  'scores': [{'score': 39.41011069729274, 'type': 'exam'},\n",
       "   {'score': 81.13270307809924, 'type': 'quiz'},\n",
       "   {'score': 97.70116640402922, 'type': 'homework'}]},\n",
       " {'_id': 18,\n",
       "  'name': 'Verdell Sowinski',\n",
       "  'scores': [{'score': 62.12870233109035, 'type': 'exam'},\n",
       "   {'score': 84.74586220889356, 'type': 'quiz'},\n",
       "   {'score': 81.58947824932574, 'type': 'homework'}]},\n",
       " {'_id': 19,\n",
       "  'name': 'Gisela Levin',\n",
       "  'scores': [{'score': 44.51211101958831, 'type': 'exam'},\n",
       "   {'score': 0.6578497966368002, 'type': 'quiz'},\n",
       "   {'score': 93.36341655949683, 'type': 'homework'}]},\n",
       " {'_id': 20,\n",
       "  'name': 'Tressa Schwing',\n",
       "  'scores': [{'score': 42.17439799514388, 'type': 'exam'},\n",
       "   {'score': 71.99314840599558, 'type': 'quiz'},\n",
       "   {'score': 81.23972632069464, 'type': 'homework'}]},\n",
       " {'_id': 21,\n",
       "  'name': 'Rosana Vales',\n",
       "  'scores': [{'score': 46.2289476258328, 'type': 'exam'},\n",
       "   {'score': 98.34164225207036, 'type': 'quiz'},\n",
       "   {'score': 36.18769746805938, 'type': 'homework'}]}]"
      ]
     },
     "execution_count": 99,
     "metadata": {},
     "output_type": "execute_result"
    }
   ],
   "source": [
    "data = open('students.json')\n",
    "\n",
    "data1 = json.load(data) \n",
    "data1"
   ]
  },
  {
   "cell_type": "code",
   "execution_count": 100,
   "id": "c9c24612",
   "metadata": {},
   "outputs": [
    {
     "data": {
      "text/plain": [
       "<pymongo.results.InsertManyResult at 0x209e570c940>"
      ]
     },
     "execution_count": 100,
     "metadata": {},
     "output_type": "execute_result"
    }
   ],
   "source": [
    "y = mycol.insert_many(data1)\n",
    "y"
   ]
  },
  {
   "cell_type": "code",
   "execution_count": 101,
   "id": "c5d255dd",
   "metadata": {},
   "outputs": [
    {
     "name": "stdout",
     "output_type": "stream",
     "text": [
      "I'm the rank student  Jessika Dagenais\n"
     ]
    }
   ],
   "source": [
    "myquery = {\n",
    "             'scores': { '$all': [\n",
    "                            { \"$elemMatch\" : { 'score': { '$gt': 90 }, 'type': 'quiz' } },\n",
    "                            { \"$elemMatch\" : { 'score': { '$gt': 90 }, 'type': 'homework' } },\n",
    "                            { \"$elemMatch\" : { 'score': { '$gt': 90 }, 'type': 'exam' } }\n",
    "                          ] }\n",
    "           } \n",
    "\n",
    "for x in mycol.find(myquery):\n",
    "    print(\"I'm the rank student \", x['name'])"
   ]
  },
  {
   "cell_type": "code",
   "execution_count": 102,
   "id": "0ea8a7be",
   "metadata": {},
   "outputs": [
    {
     "name": "stdout",
     "output_type": "stream",
     "text": [
      "Sorry! I will do better it next time  aimee Zank\n",
      "Sorry! I will do better it next time  Jenette Flanders\n",
      "Sorry! I will do better it next time  Daphne Zheng\n",
      "Sorry! I will do better it next time  Alix Sherrill\n",
      "Sorry! I will do better it next time  Dodie Staller\n",
      "Sorry! I will do better it next time  Fletcher Mcconnell\n"
     ]
    }
   ],
   "source": [
    "myquery = {\n",
    "             'scores': { '$all': [\n",
    "                 { \"$elemMatch\" : { 'score': { '$lt': 40 }, 'type': 'exam' } }\n",
    "                          ] }\n",
    "           } \n",
    "\n",
    "for x in mycol.find(myquery):\n",
    "    print(\"Sorry! I will do better it next time \", x['name'])"
   ]
  },
  {
   "cell_type": "code",
   "execution_count": 103,
   "id": "a4d4c89b",
   "metadata": {},
   "outputs": [
    {
     "name": "stdout",
     "output_type": "stream",
     "text": [
      "Sorry! you are failed  aimee Zank\n",
      "Sorry! you are failed  Jenette Flanders\n",
      "Sorry! you are failed  Daphne Zheng\n",
      "Sorry! you are failed  Alix Sherrill\n",
      "Sorry! you are failed  Dodie Staller\n",
      "Sorry! you are failed  Fletcher Mcconnell\n"
     ]
    }
   ],
   "source": [
    "myquery = {\n",
    "             'scores': { '$all': [\n",
    "                 { \"$elemMatch\" : { 'score': { '$lt': 40 }, 'type': 'exam' } }\n",
    "                          ] }\n",
    "           } \n",
    "\n",
    "for x in mycol.find(myquery):\n",
    "    print(\"Sorry! you are failed \", x['name'])"
   ]
  },
  {
   "cell_type": "code",
   "execution_count": 105,
   "id": "f9290a6a",
   "metadata": {},
   "outputs": [
    {
     "name": "stdout",
     "output_type": "stream",
     "text": [
      "<pymongo.results.InsertManyResult object at 0x00000209E576B2E0>\n"
     ]
    }
   ],
   "source": [
    "user_scores = []\n",
    "\n",
    "for user in mycol.find({}):\n",
    "    user_dist = {}\n",
    "    total = 0\n",
    "    avg = 0\n",
    "    for score in user['scores']:\n",
    "        total += score['score']\n",
    "    avg = total/3\n",
    "    user_dist = { 'name': user['name'], 'total': total, 'average': avg }\n",
    "    user_scores.append(user_dist)\n",
    "\n",
    "x = student_score.insert_many(user_scores)\n",
    "print(x)"
   ]
  },
  {
   "cell_type": "code",
   "execution_count": null,
   "id": "bdf51854",
   "metadata": {},
   "outputs": [],
   "source": []
  },
  {
   "cell_type": "code",
   "execution_count": null,
   "id": "eb04e5e3",
   "metadata": {},
   "outputs": [],
   "source": []
  }
 ],
 "metadata": {
  "kernelspec": {
   "display_name": "Python 3 (ipykernel)",
   "language": "python",
   "name": "python3"
  },
  "language_info": {
   "codemirror_mode": {
    "name": "ipython",
    "version": 3
   },
   "file_extension": ".py",
   "mimetype": "text/x-python",
   "name": "python",
   "nbconvert_exporter": "python",
   "pygments_lexer": "ipython3",
   "version": "3.9.12"
  }
 },
 "nbformat": 4,
 "nbformat_minor": 5
}
